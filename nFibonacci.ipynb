{
 "cells": [
  {
   "cell_type": "markdown",
   "id": "0fe0b54b-169c-4177-a016-ef5e01ff34b7",
   "metadata": {},
   "source": [
    "# N$^{th}$ Fibonacci Number in O(1) time\n",
    "\n",
    "#### Fibonacci Numbers\n",
    "The $n^{th}$ fibonacci number is defined as\n",
    "$$ F^n = F^{n-1} + F^{n-2} $$\n",
    "with $n \\geq 3$ and $F^2 = 1$, $F^1 = 0$.\n",
    "\n",
    "Rewriting as\n",
    "$$ \\begin{bmatrix} F^n \\\\ F^{n-1} \\end{bmatrix} = \\begin{bmatrix} 1 & 1 \\\\ 1 & 0 \\end{bmatrix} \\begin{bmatrix} F^{n-1} \\\\ F^{n-2} \\end{bmatrix} $$\n",
    "\n",
    "we notice $\\begin{bmatrix} F^{n-1} \\\\ F^{n-2} \\end{bmatrix}$ may be replaced by its corresponding linear system, which may be repeated until the base $F^2$ and $F^1$ are reached. Hence,\n",
    "\n",
    "$$ \\begin{bmatrix} F^n \\\\ F^{n-1} \\end{bmatrix} = \\begin{bmatrix} 1 & 1 \\\\ 1 & 0 \\end{bmatrix}^{n-2} \\begin{bmatrix} 1 \\\\ 0 \\end{bmatrix} $$"
   ]
  },
  {
   "cell_type": "markdown",
   "id": "3ad2e0d6-6dbe-48c5-b3c3-50b43eccf029",
   "metadata": {},
   "source": [
    "We may quickly note that the eigenvalues of the matrix are $\\lambda_\\pm = \\frac{1\\pm\\sqrt{5}}{2}$, and the right eigenvectors: $\\mathbf{k}_+ = \\begin{bmatrix} 1+\\sqrt{5} \\\\ 2 \\end{bmatrix}$, $\\mathbf{k}_- = \\begin{bmatrix} 1 - \\sqrt{5} \\\\ 2 \\end{bmatrix}$. Doing the eigendecomposition and then expanding the matrix multiplications, the expression for the nth Fibonacci number is\n",
    "\n",
    "$$ F^n = \\frac{(1+\\sqrt{5})^{n-1} - (1-\\sqrt{5})^{n-1}}{2^{n-1}\\sqrt{5}} $$"
   ]
  },
  {
   "cell_type": "code",
   "execution_count": null,
   "id": "e7a767b5-b542-4681-acef-dd3d67c71ce7",
   "metadata": {},
   "outputs": [],
   "source": [
    "# nth Fibonnaci number in O(1) to floating point precision. (Up to n=605, after which the result is too large)\n",
    "def fib(n):\n",
    "    return ((1 + (5**0.5))**(n-1) - (1-(5**0.5))**(n-1)) / (2**(n-1) * (5**0.5))\n"
   ]
  }
 ],
 "metadata": {
  "kernelspec": {
   "display_name": "Python 3 (ipykernel)",
   "language": "python",
   "name": "python3"
  },
  "language_info": {
   "codemirror_mode": {
    "name": "ipython",
    "version": 3
   },
   "file_extension": ".py",
   "mimetype": "text/x-python",
   "name": "python",
   "nbconvert_exporter": "python",
   "pygments_lexer": "ipython3",
   "version": "3.10.2"
  }
 },
 "nbformat": 4,
 "nbformat_minor": 5
}
